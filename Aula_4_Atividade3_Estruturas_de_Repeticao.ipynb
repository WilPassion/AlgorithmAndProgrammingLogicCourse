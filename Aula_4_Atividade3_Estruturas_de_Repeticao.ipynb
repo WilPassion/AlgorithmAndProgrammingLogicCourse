{
  "nbformat": 4,
  "nbformat_minor": 0,
  "metadata": {
    "colab": {
      "provenance": [],
      "authorship_tag": "ABX9TyPLHyX1VDVds8kQG2eZWmip",
      "include_colab_link": true
    },
    "kernelspec": {
      "name": "python3",
      "display_name": "Python 3"
    },
    "language_info": {
      "name": "python"
    }
  },
  "cells": [
    {
      "cell_type": "markdown",
      "metadata": {
        "id": "view-in-github",
        "colab_type": "text"
      },
      "source": [
        "<a href=\"https://colab.research.google.com/github/WilPassion/AlgorithmAndProgrammingLogicCourse/blob/master/Aula_4_Atividade3_Estruturas_de_Repeticao.ipynb\" target=\"_parent\"><img src=\"https://colab.research.google.com/assets/colab-badge.svg\" alt=\"Open In Colab\"/></a>"
      ]
    },
    {
      "cell_type": "markdown",
      "source": [
        "##**Atividade 3**##\n",
        "\n",
        "1. Usando a estrutura de repetição while, crie um algoritmo que mostre os primeiros 100 números pares.\n",
        "\n",
        "2. Altere o exercício 1 para que mostre os 100 primeiros números ímpares.\n",
        "\n",
        "3. Usando a estrutura de repetição while, crie um algoritmo que peça o usuário e a senha para um cadastro. O programa não pode permitir que o usuário seja igual a senha.\n",
        "\n",
        "4. Usando a estrutura de repetição for, crie um algoritmo que separe os dígitos de um CPF qualquer.\n",
        "\n",
        "5. Usando a estrutura de repetição for, crie um algoritmo que procure um determinado nome em uma lista de nomes."
      ],
      "metadata": {
        "id": "aNrNOHKhwNwT"
      }
    },
    {
      "cell_type": "code",
      "execution_count": 6,
      "metadata": {
        "colab": {
          "base_uri": "https://localhost:8080/"
        },
        "collapsed": true,
        "id": "nOrCtB-ys1kc",
        "outputId": "493d0580-2fe6-4e44-ca43-4a1da590e5ed"
      },
      "outputs": [
        {
          "output_type": "stream",
          "name": "stdout",
          "text": [
            "0\n",
            "2\n",
            "4\n",
            "6\n",
            "8\n",
            "10\n",
            "12\n",
            "14\n",
            "16\n",
            "18\n",
            "20\n",
            "22\n",
            "24\n",
            "26\n",
            "28\n",
            "30\n",
            "32\n",
            "34\n",
            "36\n",
            "38\n",
            "40\n",
            "42\n",
            "44\n",
            "46\n",
            "48\n",
            "50\n",
            "52\n",
            "54\n",
            "56\n",
            "58\n",
            "60\n",
            "62\n",
            "64\n",
            "66\n",
            "68\n",
            "70\n",
            "72\n",
            "74\n",
            "76\n",
            "78\n",
            "80\n",
            "82\n",
            "84\n",
            "86\n",
            "88\n",
            "90\n",
            "92\n",
            "94\n",
            "96\n",
            "98\n",
            "100\n"
          ]
        }
      ],
      "source": [
        "# 1 - Primeiro 100 número pares\n",
        "i = 0\n",
        "while(i <= 100):\n",
        "    print(i)\n",
        "    i += 2"
      ]
    },
    {
      "cell_type": "code",
      "source": [
        "# 2 - Primeiros 100 números ímpares\n",
        "i = 1\n",
        "count = 0\n",
        "while(i <= 199):\n",
        "  print(i)\n",
        "  i += 2"
      ],
      "metadata": {
        "colab": {
          "base_uri": "https://localhost:8080/"
        },
        "collapsed": true,
        "id": "vGDFo0cQyKxb",
        "outputId": "fd06279d-e2f5-4724-8c21-fb2558e61c85"
      },
      "execution_count": 10,
      "outputs": [
        {
          "output_type": "stream",
          "name": "stdout",
          "text": [
            "1\n",
            "3\n",
            "5\n",
            "7\n",
            "9\n",
            "11\n",
            "13\n",
            "15\n",
            "17\n",
            "19\n",
            "21\n",
            "23\n",
            "25\n",
            "27\n",
            "29\n",
            "31\n",
            "33\n",
            "35\n",
            "37\n",
            "39\n",
            "41\n",
            "43\n",
            "45\n",
            "47\n",
            "49\n",
            "51\n",
            "53\n",
            "55\n",
            "57\n",
            "59\n",
            "61\n",
            "63\n",
            "65\n",
            "67\n",
            "69\n",
            "71\n",
            "73\n",
            "75\n",
            "77\n",
            "79\n",
            "81\n",
            "83\n",
            "85\n",
            "87\n",
            "89\n",
            "91\n",
            "93\n",
            "95\n",
            "97\n",
            "99\n",
            "101\n",
            "103\n",
            "105\n",
            "107\n",
            "109\n",
            "111\n",
            "113\n",
            "115\n",
            "117\n",
            "119\n",
            "121\n",
            "123\n",
            "125\n",
            "127\n",
            "129\n",
            "131\n",
            "133\n",
            "135\n",
            "137\n",
            "139\n",
            "141\n",
            "143\n",
            "145\n",
            "147\n",
            "149\n",
            "151\n",
            "153\n",
            "155\n",
            "157\n",
            "159\n",
            "161\n",
            "163\n",
            "165\n",
            "167\n",
            "169\n",
            "171\n",
            "173\n",
            "175\n",
            "177\n",
            "179\n",
            "181\n",
            "183\n",
            "185\n",
            "187\n",
            "189\n",
            "191\n",
            "193\n",
            "195\n",
            "197\n",
            "199\n",
            "100\n"
          ]
        }
      ]
    },
    {
      "cell_type": "code",
      "source": [
        "# 3 - Cadastro\n",
        "\n",
        "# Entrada dados - usuário e senha\n",
        "str_user = str(input('Digite o seu usuário: '))\n",
        "str_password = str(input('Digite a sua senha: '))\n",
        "\n",
        "# Processamento - enquanto o usuário for igual à senha\n",
        "while(str_user == str_password):\n",
        "  print('Usuário e senha não podem ser iguais!')\n",
        "  str_user = str(input('Digite o seu usuário: '))\n",
        "  str_password = str(input('Digite a sua senha: '))\n",
        "\n",
        "# Saída\n",
        "print('Usuário cadastro com sucesso! ;) ')"
      ],
      "metadata": {
        "colab": {
          "base_uri": "https://localhost:8080/"
        },
        "id": "JDstEpQHwMk4",
        "outputId": "d193d32c-e35b-432f-8830-e6754e1317ad"
      },
      "execution_count": 14,
      "outputs": [
        {
          "output_type": "stream",
          "name": "stdout",
          "text": [
            "Digite o seu usuário: wil\n",
            "Digite a sua senha: wil\n",
            "Usuário e senha não podem ser iguais!\n",
            "Digite o seu usuário: santos\n",
            "Digite a sua senha: santos\n",
            "Usuário e senha não podem ser iguais!\n",
            "Digite o seu usuário: 123\n",
            "Digite a sua senha: 1234\n",
            "Usuário cadastro com sucesso! ;) \n"
          ]
        }
      ]
    },
    {
      "cell_type": "code",
      "source": [
        "# 4 - 4. Separador de dígitos CPF\n",
        "\n",
        "# Entrada dados - numeração CPF qualquer\n",
        "while True:\n",
        "  str_CPF = str(input('Digite seu CPF (apenas os números): ')).strip()\n",
        "\n",
        "  # Processamento - Verificando valor de entrada\n",
        "  if not str_CPF.isdigit(): # se str_CPF não for número\n",
        "     print('Digite novamente (apenas números de 0 a 9 no formato \"xxxxxxxxxxx\"): ')\n",
        "  else:\n",
        "    break # sai do loop se a o valor de entrada for número/ estiver correto\n",
        "\n",
        "# Processamento - Separação e exibição dos dígitos do CPF\n",
        "for i in str_CPF:\n",
        "  # Saída dados\n",
        "  print('{}'.format(i), end=' ')"
      ],
      "metadata": {
        "colab": {
          "base_uri": "https://localhost:8080/"
        },
        "id": "zx8MJU8Q21tl",
        "outputId": "85571e9c-96e1-4e13-9da1-c2c1674bd8c3"
      },
      "execution_count": 36,
      "outputs": [
        {
          "output_type": "stream",
          "name": "stdout",
          "text": [
            "Digite seu CPF (apenas os números): 586.978.525-68\n",
            "Digite novamente (apenas números de 0 a 9 no formato \"xxxxxxxxxxx\"): \n",
            "Digite seu CPF (apenas os números): 586978525-68\n",
            "Digite novamente (apenas números de 0 a 9 no formato \"xxxxxxxxxxx\"): \n",
            "Digite seu CPF (apenas os números): -\n",
            "Digite novamente (apenas números de 0 a 9 no formato \"xxxxxxxxxxx\"): \n",
            "Digite seu CPF (apenas os números): 58697852568\n",
            "5 8 6 9 7 8 5 2 5 6 8 "
          ]
        }
      ]
    },
    {
      "cell_type": "code",
      "source": [
        "# 5 - Localizador de Nome\n",
        "\n",
        "lista_nomes =['WILLIAM', 'MARCOS',  \"ANA\", \"CARLOS\", \"FERNANDA\",\n",
        "    \"HARRY\", \"LUCIANA\", \"PEDRO\", \"LARISSA\", \"RAFAEL\",\n",
        "    \"CLARA\", \"GABRIEL\", \"MARIA\", \"ANDRÉ\", \"TATIANA\",\n",
        "    \"VICTOR\", \"JULIANA\", \"ROBERTO\", \"ALICE\", \"LUIZ\", \"SILVIA\"\n",
        "]\n",
        "\n",
        "## Contando nomes da lista\n",
        "# quantidade_nomes = len(nome)\n",
        "# print(f\"Quantidade de nomes lista: {quantidade_nomes}\")\n",
        "\n",
        "print('=-'* 20)\n",
        "print('CONSULTA LISTA DE NOMES'.center(40))\n",
        "print('=-'* 20)\n",
        "\n",
        "# Entrada dado - nome para consulta\n",
        "str_nome = str(input('Digite o nome desejado: ')).upper()\n",
        "\n",
        "nome_encontrado = False # var para vericar se nome foi encontrado\n",
        "\n",
        "# Processamento - loop para varrer a lista\n",
        "for nome in lista_nomes:\n",
        "  if nome == str_nome:\n",
        "    # Saída dados\n",
        "    print('Nome encontrado!')\n",
        "    nome_encontrado = True\n",
        "    break\n",
        "\n",
        "if not nome_encontrado: # se nome não for encontrado\n",
        "  # Saída dados\n",
        "  print('Nome não encontrado!')"
      ],
      "metadata": {
        "colab": {
          "base_uri": "https://localhost:8080/"
        },
        "id": "f9i0WSqymsPk",
        "outputId": "923d7d11-7718-4ad1-c300-cbbfa716f578"
      },
      "execution_count": 55,
      "outputs": [
        {
          "output_type": "stream",
          "name": "stdout",
          "text": [
            "=-=-=-=-=-=-=-=-=-=-=-=-=-=-=-=-=-=-=-=-\n",
            "        CONSULTA LISTA DE NOMES         \n",
            "=-=-=-=-=-=-=-=-=-=-=-=-=-=-=-=-=-=-=-=-\n",
            "Digite o nome desejado: william\n",
            "Nome encontrado!\n"
          ]
        }
      ]
    }
  ]
}